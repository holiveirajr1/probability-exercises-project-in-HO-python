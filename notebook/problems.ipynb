{
 "cells": [
  {
   "cell_type": "markdown",
   "id": "a41f3622",
   "metadata": {},
   "source": [
    "# Probability exercises"
   ]
  },
  {
   "cell_type": "markdown",
   "id": "a6bdbd89",
   "metadata": {},
   "source": [
    "## Exercise 1 \n",
    "\n",
    "Two dices are thrown once and the total score is observed. Use a simulation to find the estimated probability that the total score is even or greater than 7.  A simulation is a repetition of the same experiment multiple times to observe its behavior:\n",
    "\n",
    "- Run the experiment 1000 times (roll 2 dice 1000 times, and sum the number of both dices).\n",
    "- Keep track of the number of times that the sum was either greater than 7 or an even number.\n",
    "- Divide the number from step 2 by the number of iterations (1000)."
   ]
  },
  {
   "cell_type": "code",
   "execution_count": 27,
   "id": "8939d892",
   "metadata": {},
   "outputs": [
    {
     "name": "stdout",
     "output_type": "stream",
     "text": [
      "0.649\n"
     ]
    }
   ],
   "source": [
    "# TODO\n",
    "\n",
    "import numpy as np\n",
    "\n",
    "rand1 = np.random.randint(1, 7, 1000)\n",
    "rand2 = np.random.randint(1, 7, 1000)\n",
    "rand_result = rand1 + rand2\n",
    "\n",
    "success_count = 0\n",
    "number = 0\n",
    "for number in rand_result:\n",
    "    if (number % 2 == 0) or (number > 7):\n",
    "        success_count += 1\n",
    "\n",
    "success_rate = success_count/1000\n",
    "print(success_rate)\n"
   ]
  },
  {
   "cell_type": "markdown",
   "id": "55732bca",
   "metadata": {},
   "source": [
    "## Exercise 2\n",
    "\n",
    "A box contains 10 white balls, 20 red balls and 30 green balls. If we take 5 balls from the box with replacement (we take the ball, observe what color it is and put it back into the box). We want to know the probability of:\n",
    "\n",
    "1. Take 3 white and 2 red.\n",
    "2. Take all of the same color.\n",
    "\n",
    "Run the experiment 1000 times and calculate the above probabilities."
   ]
  },
  {
   "cell_type": "code",
   "execution_count": 29,
   "id": "23244d20",
   "metadata": {},
   "outputs": [
    {
     "name": "stdout",
     "output_type": "stream",
     "text": [
      "{0: 'white', 1: 'white', 2: 'white', 3: 'white', 4: 'white', 5: 'white', 6: 'white', 7: 'white', 8: 'white', 9: 'white', 10: 'red', 11: 'red', 12: 'red', 13: 'red', 14: 'red', 15: 'red', 16: 'red', 17: 'red', 18: 'red', 19: 'red', 20: 'red', 21: 'red', 22: 'red', 23: 'red', 24: 'red', 25: 'red', 26: 'red', 27: 'red', 28: 'red', 29: 'red', 30: 'green', 31: 'green', 32: 'green', 33: 'green', 34: 'green', 35: 'green', 36: 'green', 37: 'green', 38: 'green', 39: 'green', 40: 'green', 41: 'green', 42: 'green', 43: 'green', 44: 'green', 45: 'green', 46: 'green', 47: 'green', 48: 'green', 49: 'green', 50: 'green', 51: 'green', 52: 'green', 53: 'green', 54: 'green', 55: 'green', 56: 'green', 57: 'green', 58: 'green', 59: 'green'}\n",
      "['green', 'green', 'red', 'green', 'red']\n",
      "1\n",
      "['green', 'green', 'red', 'green', 'red']\n",
      "2\n",
      "['green', 'green', 'red', 'green', 'red']\n",
      "3\n",
      "0.0\n",
      "0.0\n"
     ]
    }
   ],
   "source": [
    "import random\n",
    "\n",
    "\n",
    "ball_box = {}\n",
    "\n",
    "for i in range(60):\n",
    "    if i < 10:\n",
    "        ball_box[i] = \"white\"\n",
    "    elif (i > 9) and (i < 30):\n",
    "        ball_box[i] = \"red\"\n",
    "    else:\n",
    "        ball_box[i] = \"green\"\n",
    "\n",
    "print(ball_box)\n",
    "\n",
    "prob1 = 0\n",
    "prob2 = 0\n",
    "\n",
    "for i in range(0, 1):\n",
    "    colors = []\n",
    "    white_counter = 0   \n",
    "    red_counter = 0\n",
    "    same_counter = 0\n",
    "\n",
    "    for n in range(0, 5):\n",
    "        x = random.randint(0, 59)\n",
    "        colors.append(ball_box[x])\n",
    "\n",
    "    for y in range(0, 5):\n",
    "        if colors[y] == \"white\":\n",
    "            white_counter += 1\n",
    "        if colors[y] == \"red\":\n",
    "            red_counter += 1\n",
    "        if colors[0] == colors[y]:\n",
    "            print(colors)\n",
    "\n",
    "            same_counter += 1\n",
    "            print(same_counter)\n",
    "\n",
    "\n",
    "    if (white_counter == 3) and (red_counter == 2):\n",
    "        prob1 += 1\n",
    "    if same_counter == 5:\n",
    "        prob2 += 1\n",
    "\n",
    "print(prob1/1000)\n",
    "print(prob2/1000)\n"
   ]
  }
 ],
 "metadata": {
  "kernelspec": {
   "display_name": "Python 3",
   "language": "python",
   "name": "python3"
  },
  "language_info": {
   "codemirror_mode": {
    "name": "ipython",
    "version": 3
   },
   "file_extension": ".py",
   "mimetype": "text/x-python",
   "name": "python",
   "nbconvert_exporter": "python",
   "pygments_lexer": "ipython3",
   "version": "3.11.4"
  }
 },
 "nbformat": 4,
 "nbformat_minor": 5
}
